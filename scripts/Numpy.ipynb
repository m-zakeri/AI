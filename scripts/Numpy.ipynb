{
  "cells": [
    {
      "cell_type": "markdown",
      "metadata": {
        "id": "kfWiHjDw57wC"
      },
      "source": [
        "## A. Arrays\n",
        "\n",
        "NumPy arrays are basically just Python lists with added features. In fact, you can easily convert a Python list to a Numpy array using the np.array function, which takes in a Python list as its required argument. The function also has quite a few keyword arguments, but the main one to know is dtype. The dtype keyword argument takes in a NumPy type and manually casts the array to the specified type.\n",
        "\n",
        "The code below is an example usage of np.array to create a 2-D matrix. Note that the array is manually cast to np.float32."
      ]
    },
    {
      "cell_type": "code",
      "execution_count": null,
      "metadata": {
        "colab": {
          "base_uri": "https://localhost:8080/"
        },
        "id": "7yJGbXwB57wL",
        "outputId": "2a05f924-bc19-4035-b942-e77403054c9e"
      },
      "outputs": [
        {
          "output_type": "stream",
          "name": "stdout",
          "text": [
            "array([[0., 1., 2.],\n",
            "       [3., 4., 5.]], dtype=float32)\n",
            "[[0. 1. 2.]\n",
            " [3. 4. 5.]]\n"
          ]
        }
      ],
      "source": [
        "#pip install numpy\n",
        "import numpy as np\n",
        "\n",
        "arr = np.array([[0, 1, 2], [3, 4, 5]],\n",
        "               dtype=np.float32)\n",
        "print(repr(arr)) #The repr() function returns a printable representation of the given object.\n",
        "print(arr)"
      ]
    },
    {
      "cell_type": "markdown",
      "metadata": {
        "id": "tAEwqDom57wN"
      },
      "source": [
        "When the elements of a NumPy array are mixed types, then the array's type will be upcast to the highest level type. This means that if an array input has mixed int and float elements, all the integers will be cast to their floating-point equivalents. If an array is mixed with int, float, and string elements, everything is cast to strings.\n",
        "\n",
        "The code below is an example of np.array upcasting. Both integers are cast to their floating-point equivalents."
      ]
    },
    {
      "cell_type": "code",
      "execution_count": null,
      "metadata": {
        "id": "7LlZr6GQ57wO",
        "outputId": "7e75a5ed-152b-4fd0-c7fc-574e556171cb"
      },
      "outputs": [
        {
          "name": "stdout",
          "output_type": "stream",
          "text": [
            "array([0. , 0.1, 2. ])\n"
          ]
        }
      ],
      "source": [
        "arr = np.array([0, 0.1, 2])\n",
        "print(repr(arr))"
      ]
    },
    {
      "cell_type": "markdown",
      "metadata": {
        "id": "RbR5UZ8s57wP"
      },
      "source": [
        "## B. Copying\n",
        "\n",
        "Similar to Python lists, when we make a reference to a NumPy array it doesn't create a different array. Therefore, if we change a value using the reference variable, it changes the original array as well. We get around this by using an array's inherent copy function. The function has no required arguments, and it returns the copied array.\n",
        "\n",
        "In the code example below, c is a reference to a while d is a copy. Therefore, changing c leads to the same change in a, while changing d does not change the value of b."
      ]
    },
    {
      "cell_type": "code",
      "execution_count": null,
      "metadata": {
        "id": "8Q_4c5FG57wP",
        "outputId": "f942c3cb-e458-485e-c653-5df9562cda66",
        "colab": {
          "base_uri": "https://localhost:8080/"
        }
      },
      "outputs": [
        {
          "output_type": "stream",
          "name": "stdout",
          "text": [
            "Array a: array([0, 1])\n",
            "Array a: array([5, 1])\n",
            "Array b: array([9, 8])\n"
          ]
        }
      ],
      "source": [
        "a = np.array([0, 1])\n",
        "b = np.array([9, 8])\n",
        "c = a\n",
        "print('Array a: {}'.format(repr(a)))\n",
        "c[0] = 5 #pointer\n",
        "print('Array a: {}'.format(repr(a)))\n",
        "\n",
        "d = b.copy()\n",
        "d[0] = 6\n",
        "print('Array b: {}'.format(repr(b)))"
      ]
    },
    {
      "cell_type": "markdown",
      "metadata": {
        "id": "r0_aZ2dA57wQ"
      },
      "source": [
        "## C. Casting\n",
        "We cast NumPy arrays through their inherent astype function. The function's required argument is the new type for the array. It returns the array cast to the new type.\n",
        "\n",
        "The code below shows an example of casting using the astype function. The dtype property returns the type of an array."
      ]
    },
    {
      "cell_type": "code",
      "execution_count": null,
      "metadata": {
        "id": "w45brl-o57wR",
        "outputId": "8cb35d69-bcb6-4b7e-8712-d364028a5743",
        "colab": {
          "base_uri": "https://localhost:8080/"
        }
      },
      "outputs": [
        {
          "output_type": "stream",
          "name": "stdout",
          "text": [
            "int64\n",
            "array([0, 1, 2])\n",
            "float32\n"
          ]
        }
      ],
      "source": [
        "arr = np.array([0, 1, 2])\n",
        "print(arr.dtype)\n",
        "print(repr(arr))\n",
        "\n",
        "arr = arr.astype(np.float32) #https://numpy.org/doc/stable/reference/generated/numpy.ndarray.astype.html\n",
        "print(arr.dtype)"
      ]
    },
    {
      "cell_type": "markdown",
      "metadata": {
        "id": "A_5YSO8T57wS"
      },
      "source": [
        "## D. Ranged data\n",
        "While np.array can be used to create any array, it is equivalent to hardcoding an array. This won't work when the array has hundreds of values. Instead, NumPy provides an option to create ranged data arrays using np.arange. The function acts very similar to the range function in Python, and will always return a 1-D array.\n",
        "\n",
        "The code below contains example usages of np.arange."
      ]
    },
    {
      "cell_type": "code",
      "execution_count": null,
      "metadata": {
        "id": "HQiBaclA57wT",
        "outputId": "b1627055-a826-4d32-d8ba-806104804c58"
      },
      "outputs": [
        {
          "name": "stdout",
          "output_type": "stream",
          "text": [
            "array([0, 1, 2, 3, 4])\n",
            "array([0., 1., 2., 3., 4., 5.])\n",
            "array([-1,  0,  1,  2,  3])\n",
            "array([-1.5,  0.5,  2.5])\n"
          ]
        }
      ],
      "source": [
        "import numpy as np\n",
        "arr = np.arange(5)\n",
        "print(repr(arr))\n",
        "\n",
        "arr = np.arange(5.1)\n",
        "print(repr(arr))\n",
        "\n",
        "arr = np.arange(-1, 4)\n",
        "print(repr(arr))\n",
        "\n",
        "arr = np.arange(-1.5, 4, 2)\n",
        "print(repr(arr))"
      ]
    },
    {
      "cell_type": "markdown",
      "metadata": {
        "id": "8DukIANp57wU"
      },
      "source": [
        "The output of np.arange is specified as follows:\n",
        "\n",
        "If only a single number, n, is passed in as an argument, np.arange will return an array with all the integers in the range [0, n).\n",
        "Note: the lower end is inclusive while the upper end is exclusive.\n",
        "For two arguments, m and n, np.arange will return an array with all the integers in the range [m, n).\n",
        "For three arguments, m, n, and s, np.arange will return an array with the integers in the range [m, n) using a step size of s.\n",
        "Like np.array, np.arange performs upcasting. It also has the dtype keyword argument to manually cast the array."
      ]
    },
    {
      "cell_type": "markdown",
      "metadata": {
        "id": "IGNtMVuO57wU"
      },
      "source": [
        "To specify the number of elements in the returned array, rather than the step size, we can use the np.linspace function.\n",
        "\n",
        "This function takes in a required first two arguments, for the start and end of the range, respectively. The end of the range is inclusive for np.linspace, unless the keyword argument endpoint is set to False. To specify the number of elements, we set the num keyword argument (its default value is 50).\n",
        "\n",
        "The code below shows example usages of np.linspace. It also takes in the dtype keyword argument for manual casting."
      ]
    },
    {
      "cell_type": "code",
      "execution_count": null,
      "metadata": {
        "colab": {
          "base_uri": "https://localhost:8080/"
        },
        "id": "5trq4ATW57wV",
        "outputId": "f9b52845-5e90-48d1-8a9e-680c34b6f0d9"
      },
      "outputs": [
        {
          "output_type": "stream",
          "name": "stdout",
          "text": [
            "(array([ 5.        ,  5.12244898,  5.24489796,  5.36734694,  5.48979592,\n",
            "        5.6122449 ,  5.73469388,  5.85714286,  5.97959184,  6.10204082,\n",
            "        6.2244898 ,  6.34693878,  6.46938776,  6.59183673,  6.71428571,\n",
            "        6.83673469,  6.95918367,  7.08163265,  7.20408163,  7.32653061,\n",
            "        7.44897959,  7.57142857,  7.69387755,  7.81632653,  7.93877551,\n",
            "        8.06122449,  8.18367347,  8.30612245,  8.42857143,  8.55102041,\n",
            "        8.67346939,  8.79591837,  8.91836735,  9.04081633,  9.16326531,\n",
            "        9.28571429,  9.40816327,  9.53061224,  9.65306122,  9.7755102 ,\n",
            "        9.89795918, 10.02040816, 10.14285714, 10.26530612, 10.3877551 ,\n",
            "       10.51020408, 10.63265306, 10.75510204, 10.87755102, 11.        ]), 0.12244897959183673)\n",
            "array([5. , 6.5, 8. , 9.5])\n",
            "array([ 5,  7,  9, 12], dtype=int32)\n",
            "array([ 5.        ,  7.33333333,  9.66666667, 12.        ])\n",
            "array([ 4.5,  7. ,  9.5, 12. ])\n"
          ]
        }
      ],
      "source": [
        "arr = np.linspace(5, 11 ,endpoint=True,retstep=True)\n",
        "print(repr(arr))\n",
        "\n",
        "arr = np.linspace(5, 11, num=4, endpoint=False)\n",
        "print(repr(arr))\n",
        "\n",
        "arr = np.linspace(5, 12, num=4, dtype=np.int32)\n",
        "print(repr(arr))\n",
        "\n",
        "arr = np.linspace(5, 12, num=4)\n",
        "print(repr(arr))\n",
        "\n",
        "arr = np.linspace(4.5, 12, num=4)\n",
        "print(repr(arr))"
      ]
    },
    {
      "cell_type": "markdown",
      "metadata": {
        "id": "CB-a8lol57wW"
      },
      "source": [
        "## E. Reshaping data\n",
        "The function we use to reshape data in NumPy is np.reshape. It takes in an array and a new shape as required arguments. The new shape must exactly contain all the elements from the input array. For example, we could reshape an array with 12 elements to (4, 3), but we can't reshape it to (4, 4).\n",
        "\n",
        "We are allowed to use the special value of -1 in at most one dimension of the new shape. The dimension with -1 will take on the value necessary to allow the new shape to contain all the elements of the array.\n",
        "\n",
        "The code below shows example usages of np.reshape."
      ]
    },
    {
      "cell_type": "code",
      "execution_count": null,
      "metadata": {
        "id": "_WTnNldp57wW"
      },
      "outputs": [],
      "source": [
        "arr = np.arange(8)\n",
        "\n",
        "reshaped_arr = np.reshape(arr, (2, 4))\n",
        "# print(repr(reshaped_arr))\n",
        "# print('New shape: {}'.format(reshaped_arr.shape))\n",
        "\n",
        "reshaped_arr = np.reshape(arr, (-2, 2, 2)) #???\n",
        "reshaped_arr2 = np.reshape(arr, (2, 2, 2))\n",
        "\n",
        "# print(repr(reshaped_arr))\n",
        "# print('New shape: {}'.format(reshaped_arr.shape))"
      ]
    },
    {
      "cell_type": "markdown",
      "metadata": {
        "id": "dQHlw_J157wX"
      },
      "source": [
        "While the np.reshape function can perform any reshaping utilities we need, NumPy provides an inherent function for flattening an array. Flattening an array reshapes it into a 1D array. Since we need to flatten data quite often, it is a useful function.\n",
        "\n",
        "The code below flattens an array using the inherent flatten function."
      ]
    },
    {
      "cell_type": "code",
      "execution_count": null,
      "metadata": {
        "id": "_N6uEUB157wX",
        "outputId": "3c610cf3-6272-49ef-c1f6-d2e1f9586341",
        "colab": {
          "base_uri": "https://localhost:8080/"
        }
      },
      "outputs": [
        {
          "output_type": "stream",
          "name": "stdout",
          "text": [
            "array([[0, 1, 2, 3],\n",
            "       [4, 5, 6, 7]])\n",
            "arr shape: (2, 4)\n",
            "array([0, 1, 2, 3, 4, 5, 6, 7])\n",
            "flattened shape: (8,)\n"
          ]
        }
      ],
      "source": [
        "arr = np.arange(8)\n",
        "arr = np.reshape(arr, (2, 4))\n",
        "flattened = arr.flatten()\n",
        "print(repr(arr))\n",
        "print('arr shape: {}'.format(arr.shape))\n",
        "print(repr(flattened))\n",
        "print('flattened shape: {}'.format(flattened.shape))"
      ]
    },
    {
      "cell_type": "markdown",
      "metadata": {
        "id": "7q1r1t2V57wY"
      },
      "source": [
        "## F. Transposing\n",
        "Similar to how it is common to reshape data, it is also common to transpose data. Perhaps we have data that's supposed to be in a particular format, but some new data we get is rearranged. We can just transpose the data, using the np.transpose function, to convert it to the proper format.\n",
        "\n",
        "The code below shows an example usage of the np.transpose function. The matrix rows become columns after the transpose."
      ]
    },
    {
      "cell_type": "code",
      "execution_count": null,
      "metadata": {
        "id": "t6pj6O7G57wY",
        "outputId": "09c3d041-4a8e-4dec-f0f5-88d0bd99f0c1"
      },
      "outputs": [
        {
          "name": "stdout",
          "output_type": "stream",
          "text": [
            "array([[0, 1],\n",
            "       [2, 3],\n",
            "       [4, 5],\n",
            "       [6, 7]])\n",
            "arr shape: (4, 2)\n",
            "array([[0, 2, 4, 6],\n",
            "       [1, 3, 5, 7]])\n",
            "transposed shape: (2, 4)\n"
          ]
        }
      ],
      "source": [
        "arr = np.arange(8)\n",
        "arr = np.reshape(arr, (4, 2))\n",
        "transposed = np.transpose(arr)\n",
        "print(repr(arr))\n",
        "print('arr shape: {}'.format(arr.shape))\n",
        "print(repr(transposed))\n",
        "print('transposed shape: {}'.format(transposed.shape))"
      ]
    },
    {
      "cell_type": "markdown",
      "metadata": {
        "id": "RVL7lyBd57wY"
      },
      "source": [
        "## G. Zeros and ones\n",
        "Sometimes, we need to create arrays filled solely with 0 or 1. For example, since binary data is labeled with 0 and 1, we may need to create dummy datasets of strictly one label. For creating these arrays, NumPy provides the functions np.zeros and np.ones. They both take in the same arguments, which includes just one required argument, the array shape. The functions also allow for manual casting using the dtype keyword argument.\n",
        "\n",
        "The code below shows example usages of np.zeros and np.ones."
      ]
    },
    {
      "cell_type": "code",
      "execution_count": null,
      "metadata": {
        "id": "_rSZQq4_57wZ",
        "outputId": "fb046fdc-6c14-47b0-8465-d71e0433193a",
        "colab": {
          "base_uri": "https://localhost:8080/"
        }
      },
      "outputs": [
        {
          "output_type": "stream",
          "name": "stdout",
          "text": [
            "array([0., 0., 0., 0.])\n",
            "array([[1., 1., 1.],\n",
            "       [1., 1., 1.]])\n",
            "array([[1, 1, 1],\n",
            "       [1, 1, 1]], dtype=int32)\n"
          ]
        }
      ],
      "source": [
        "arr = np.zeros(4)\n",
        "print(repr(arr))\n",
        "\n",
        "arr = np.ones((2, 3))\n",
        "print(repr(arr))\n",
        "\n",
        "arr = np.ones((2, 3), dtype=np.int32)\n",
        "print(repr(arr))"
      ]
    },
    {
      "cell_type": "markdown",
      "metadata": {
        "id": "qCGAj5DD57wZ"
      },
      "source": [
        "# H. Matrix multiplication\n",
        "Since NumPy arrays are basically vectors and matrices, it makes sense that there are functions for dot products and matrix multiplication. Specifically, the main function to use is np.matmul, which takes two vector/matrix arrays as input and produces a dot product or matrix multiplication.\n",
        "\n",
        "The code below shows various examples of matrix multiplication. When both inputs are 1-D, the output is the dot product.\n",
        "\n",
        "Note that the dimensions of the two input matrices must be valid for a matrix multiplication. Specifically, the second dimension of the first matrix must equal the first dimension of the second matrix, otherwise np.matmul will result in a ValueError."
      ]
    },
    {
      "cell_type": "code",
      "execution_count": null,
      "metadata": {
        "id": "xeWZeB6U57wZ",
        "outputId": "c61538ec-5415-4459-f753-d3f7370b140c",
        "colab": {
          "base_uri": "https://localhost:8080/"
        }
      },
      "outputs": [
        {
          "output_type": "stream",
          "name": "stdout",
          "text": [
            "27\n",
            "array([[  5,   4,  -7],\n",
            "       [  9,   8, -13],\n",
            "       [ 13,  12, -19]])\n"
          ]
        }
      ],
      "source": [
        "arr1 = np.array([1, 2, 3])  #1*3\n",
        "arr2 = np.array([-3, 0, 10])\n",
        "print(np.matmul(arr1, arr2))\n",
        "# inner product\n",
        "arr3 = np.array([[1, 2], [3, 4], [5, 6]])\n",
        "arr4 = np.array([[-1, 0, 1], [3, 2, -4]])\n",
        "print(repr(np.matmul(arr3, arr4)))\n",
        "print(repr(np.matmul(arr4, arr3)))\n",
        "# This will result in ValueError\n",
        "print(repr(np.matmul(arr3, arr3)))"
      ]
    },
    {
      "cell_type": "markdown",
      "metadata": {
        "id": "3gxjQVzM57wa"
      },
      "source": [
        "# I. Random integers\n",
        "Similar to the Python random module, NumPy has its own submodule for pseudo-random number generation called np.random. It provides all the necessary randomized operations and extends it to multi-dimensional arrays. To generate pseudo-random integers, we use the np.random.randint function.\n",
        "\n",
        "The code below shows example usages of np.random.randint."
      ]
    },
    {
      "cell_type": "code",
      "execution_count": null,
      "metadata": {
        "id": "4f0hFgD957wa",
        "outputId": "389931ba-5b30-48f7-c50c-9291b593e51b",
        "colab": {
          "base_uri": "https://localhost:8080/"
        }
      },
      "outputs": [
        {
          "output_type": "stream",
          "name": "stdout",
          "text": [
            "4\n",
            "4\n",
            "9\n"
          ]
        }
      ],
      "source": [
        "import numpy as np\n",
        "print(np.random.randint(5))\n",
        "print(np.random.randint(5))\n",
        "print(np.random.randint(5, 10))\n",
        "\n",
        "random_arr = np.random.randint(-3, high=14,size=(2, 2))\n",
        "# print(repr(random_arr))"
      ]
    },
    {
      "cell_type": "markdown",
      "metadata": {
        "id": "N-nCLqqt57wa"
      },
      "source": [
        "# Explanation\n",
        "The np.random.randint function takes in a single required argument, which actually depends on the high keyword argument. If high=None (which is the default value), then the required argument represents the upper (exclusive) end of the range, with the lower end being 0. Specifically, if the required argument is n, then the random integer is chosen uniformly from the range [0, n).\n",
        "\n",
        "If high is not None, then the required argument will represent the lower (inclusive) end of the range, while high represents the upper (exclusive) end.\n",
        "\n",
        "The size keyword argument specifies the size of the output array, where each integer in the array is randomly drawn from the specified range. As a default, np.random.randint returns a single integer."
      ]
    },
    {
      "cell_type": "markdown",
      "metadata": {
        "id": "PQEgFcHT57wb"
      },
      "source": [
        "# J. Utility functions\n",
        "Some fundamental utility functions from the np.random module are np.random.seed and np.random.shuffle. We use the np.random.seed function to set the random seed, which allows us to control the outputs of the pseudo-random functions. The function takes in a single integer as an argument, representing the random seed.\n",
        "\n",
        "The code below uses np.random.seed with the same random seed. Note how the outputs of the random functions in each subsequent run are identical when we set the same random seed."
      ]
    },
    {
      "cell_type": "code",
      "execution_count": null,
      "metadata": {
        "colab": {
          "base_uri": "https://localhost:8080/"
        },
        "id": "Jt2Fauyr57wb",
        "outputId": "3df115f4-3399-4126-ebb7-5bf9eb843567"
      },
      "outputs": [
        {
          "output_type": "stream",
          "name": "stdout",
          "text": [
            "5\n",
            "5\n",
            "array([[15, 75],\n",
            "       [12, 78]])\n",
            "8\n",
            "array([[18, 75],\n",
            "       [25, 46]])\n",
            "5\n",
            "array([[15, 75],\n",
            "       [12, 78]])\n",
            "8\n",
            "array([[18, 75],\n",
            "       [25, 46]])\n"
          ]
        }
      ],
      "source": [
        "np.random.seed(1)\n",
        "print(np.random.randint(10))\n",
        "np.random.seed(1)\n",
        "\n",
        "print(np.random.randint(10))\n",
        "\n",
        "random_arr = np.random.randint(3, high=100,\n",
        "                               size=(2, 2))\n",
        "print(repr(random_arr))\n",
        "\n",
        "# New seed\n",
        "np.random.seed(2)\n",
        "print(np.random.randint(10))\n",
        "random_arr = np.random.randint(3, high=100,\n",
        "                               size=(2, 2))\n",
        "print(repr(random_arr))\n",
        "\n",
        "# Original seed\n",
        "np.random.seed(1)\n",
        "print(np.random.randint(10))\n",
        "random_arr = np.random.randint(3, high=100,\n",
        "                               size=(2, 2))\n",
        "print(repr(random_arr))\n",
        "\n",
        "\n",
        "\n",
        "\n",
        "\n",
        "np.random.seed(2)\n",
        "print(np.random.randint(10))\n",
        "random_arr = np.random.randint(3, high=100,\n",
        "                               size=(2, 2))\n",
        "print(repr(random_arr))"
      ]
    },
    {
      "cell_type": "code",
      "source": [
        "np.random.seed(1)\n",
        "print(np.random.randint(10))\n",
        "np.random.seed(1)\n",
        "print(np.random.randint(10))\n",
        "np.random.seed(1)\n",
        "print(np.random.randint(10))\n"
      ],
      "metadata": {
        "colab": {
          "base_uri": "https://localhost:8080/"
        },
        "id": "dDeJBrVoH1Zc",
        "outputId": "721a5ae8-65f6-4d53-bdb4-853884574698"
      },
      "execution_count": null,
      "outputs": [
        {
          "output_type": "stream",
          "name": "stdout",
          "text": [
            "5\n",
            "5\n",
            "5\n"
          ]
        }
      ]
    },
    {
      "cell_type": "markdown",
      "metadata": {
        "id": "LULHyebg57wb"
      },
      "source": [
        "The np.random.shuffle function allows us to randomly shuffle an array. Note that the shuffling happens in place (i.e. no return value), and shuffling multi-dimensional arrays only shuffles the first dimension.\n",
        "\n",
        "The code below shows example usages of np.random.shuffle. Note that only the rows of matrix are shuffled (i.e. shuffling along first dimension only)."
      ]
    },
    {
      "cell_type": "code",
      "execution_count": null,
      "metadata": {
        "id": "i1v3jSJL57wb",
        "outputId": "f25d12a5-68d2-4ad5-de8d-1c718ee6bee5"
      },
      "outputs": [
        {
          "name": "stdout",
          "output_type": "stream",
          "text": [
            "array([3, 4, 2, 5, 1])\n",
            "array([5, 3, 4, 2, 1])\n",
            "array([[4, 5, 6],\n",
            "       [7, 8, 9],\n",
            "       [1, 2, 3]])\n"
          ]
        }
      ],
      "source": [
        "vec = np.array([1, 2, 3, 4, 5])\n",
        "np.random.shuffle(vec)\n",
        "print(repr(vec))\n",
        "np.random.shuffle(vec)\n",
        "print(repr(vec))\n",
        "\n",
        "matrix = np.array([[1, 2, 3],\n",
        "                   [4, 5, 6],\n",
        "                   [7, 8, 9]])\n",
        "np.random.shuffle(matrix)\n",
        "print(repr(matrix))"
      ]
    },
    {
      "cell_type": "markdown",
      "metadata": {
        "id": "ILTGcMBm57wc"
      },
      "source": [
        "# K. Array accessing\n",
        "Accessing NumPy arrays is identical to accessing Python lists. For multi-dimensional arrays, it is equivalent to accessing Python lists of lists.\n",
        "\n",
        "The code below shows example accesses of NumPy arrays."
      ]
    },
    {
      "cell_type": "code",
      "execution_count": null,
      "metadata": {
        "id": "FtSbxV9D57wc",
        "outputId": "1904ba4f-fa31-4e82-815d-8a96f160788b",
        "colab": {
          "base_uri": "https://localhost:8080/"
        }
      },
      "outputs": [
        {
          "output_type": "stream",
          "name": "stdout",
          "text": [
            "1\n",
            "5\n",
            "array([6, 8])\n"
          ]
        }
      ],
      "source": [
        "import numpy as np\n",
        "arr = np.array([1, 2, 3, 4, 5])\n",
        "print(arr[0])\n",
        "print(arr[4])\n",
        "\n",
        "arr = np.array([[6, 8], [0, 2]])\n",
        "# Subarray\n",
        "print(repr(arr[0]))"
      ]
    },
    {
      "cell_type": "markdown",
      "metadata": {
        "id": "QRpMN-3k57wc"
      },
      "source": [
        "# L. Slicing\n",
        "NumPy arrays also support slicing. Similar to Python, we use the colon operator (i.e. arr[:]) for slicing. We can also use negative indexing to slice in the backwards direction.\n",
        "\n",
        "The code below shows example slices of a 1-D NumPy array."
      ]
    },
    {
      "cell_type": "code",
      "execution_count": null,
      "metadata": {
        "id": "zNJODyh557wc",
        "outputId": "397eb6b9-cfcf-4ba4-f7d5-f30dff019d91"
      },
      "outputs": [
        {
          "name": "stdout",
          "output_type": "stream",
          "text": [
            "array([1, 2, 3, 4, 5])\n",
            "array([2, 3, 4, 5])\n",
            "array([3, 4])\n",
            "array([1, 2, 3, 4])\n",
            "array([4, 5])\n"
          ]
        }
      ],
      "source": [
        "arr = np.array([1, 2, 3, 4, 5])\n",
        "print(repr(arr[:]))\n",
        "print(repr(arr[1:]))\n",
        "print(repr(arr[2:4]))\n",
        "print(repr(arr[:-1]))\n",
        "print(repr(arr[-2:]))"
      ]
    },
    {
      "cell_type": "markdown",
      "metadata": {
        "id": "qOeWWwTJ57wd"
      },
      "source": [
        "For multi-dimensional arrays, we can use a comma to separate slices across each dimension.\n",
        "\n",
        "The code below shows example slices of a 2-D NumPy array."
      ]
    },
    {
      "cell_type": "code",
      "execution_count": null,
      "metadata": {
        "id": "QF2y0XgO57wd",
        "outputId": "c7d5edfe-b4c6-4be4-ed3e-618ed7d0d1b4"
      },
      "outputs": [
        {
          "name": "stdout",
          "output_type": "stream",
          "text": [
            "array([[1, 2, 3],\n",
            "       [4, 5, 6],\n",
            "       [7, 8, 9]])\n",
            "array([[4, 5, 6],\n",
            "       [7, 8, 9]])\n",
            "array([3, 6, 9])\n",
            "array([[2, 3],\n",
            "       [5, 6],\n",
            "       [8, 9]])\n",
            "array([[2, 3]])\n",
            "array([2, 3])\n"
          ]
        }
      ],
      "source": [
        "arr = np.array([[1, 2, 3],\n",
        "                [4, 5, 6],\n",
        "                [7, 8, 9]])\n",
        "print(repr(arr[:]))\n",
        "print(repr(arr[1:]))\n",
        "print(repr(arr[:, -1]))\n",
        "print(repr(arr[:, 1:]))\n",
        "print(repr(arr[0:1, 1:]))\n",
        "print(repr(arr[0, 1:]))"
      ]
    },
    {
      "cell_type": "markdown",
      "metadata": {
        "id": "yniF7ZtZ57wd"
      },
      "source": [
        "# M. Analysis\n",
        "It is often useful to analyze data for its main characteristics and interesting trends. there are a few techniques in NumPy that allow us to quickly inspect data arrays.\n",
        "For example, we can obtain minimum and maximum values of a NumPy array using its inherent min and max functions. This gives us an initial sense of the data's range, and can alert us to extreme outliers in the data.\n",
        "\n",
        "The code below shows example usages of the min and max functions."
      ]
    },
    {
      "cell_type": "code",
      "execution_count": null,
      "metadata": {
        "id": "K6J-1PXY57wd",
        "outputId": "0610f0b6-07ee-4d83-97a9-fb3d70dda600"
      },
      "outputs": [
        {
          "name": "stdout",
          "output_type": "stream",
          "text": [
            "-60\n",
            "72\n",
            "array([ -3,  -2, -60])\n",
            "array([72,  3,  4])\n"
          ]
        }
      ],
      "source": [
        "import numpy as np\n",
        "arr = np.array([[0, 72, 3],\n",
        "                [1, 3, -60],\n",
        "                [-3, -2, 4]])\n",
        "print(arr.min())\n",
        "print(arr.max())\n",
        "\n",
        "print(repr(arr.min(axis=0)))\n",
        "print(repr(arr.max(axis=-1)))"
      ]
    },
    {
      "cell_type": "markdown",
      "metadata": {
        "id": "gVritIwK57we"
      },
      "source": [
        "In our example, we use axis=0 to find an array of the minimum values in each column of arr and axis=1 to find an array of the maximum values in each row of arr.\n",
        "\n",
        "\n",
        "\n"
      ]
    },
    {
      "cell_type": "markdown",
      "metadata": {
        "id": "n-Vn6nx357we"
      },
      "source": [
        "# N. Statistical metrics\n",
        "NumPy also provides basic statistical functions such as np.mean, np.var, and np.median, to calculate the mean, variance, and median of the data, respectively.\n",
        "\n",
        "The code below shows how to obtain basic statistics with NumPy. Note that np.median applied without axis takes the median of the flattened array."
      ]
    },
    {
      "cell_type": "code",
      "execution_count": null,
      "metadata": {
        "id": "helz1ARb57we",
        "outputId": "d4edd61a-01ee-43e3-c01a-f1cce2b2a531"
      },
      "outputs": [
        {
          "name": "stdout",
          "output_type": "stream",
          "text": [
            "2.0\n",
            "977.3333333333334\n",
            "1.0\n",
            "array([ 3.,  1., -2.])\n"
          ]
        }
      ],
      "source": [
        "arr = np.array([[0, 72, 3],\n",
        "                [1, 3, -60],\n",
        "                [-3, -2, 4]])\n",
        "print(np.mean(arr))\n",
        "print(np.var(arr))\n",
        "print(np.median(arr))\n",
        "print(repr(np.median(arr, axis=-1)))"
      ]
    },
    {
      "cell_type": "markdown",
      "metadata": {
        "id": "IO1LS85o57we"
      },
      "source": [
        "Each of these functions takes in the data array as a required argument and axis as a keyword argument. For a more comprehensive list of statistical functions (e.g. calculating percentiles, creating histograms, etc.), check out the NumPy statistics page."
      ]
    },
    {
      "cell_type": "code",
      "execution_count": null,
      "metadata": {
        "id": "rZyUYS-y57wf"
      },
      "outputs": [],
      "source": []
    },
    {
      "cell_type": "code",
      "execution_count": null,
      "metadata": {
        "id": "pFtEpmGB57wf"
      },
      "outputs": [],
      "source": []
    }
  ],
  "metadata": {
    "kernelspec": {
      "display_name": "Python 3",
      "language": "python",
      "name": "python3"
    },
    "language_info": {
      "codemirror_mode": {
        "name": "ipython",
        "version": 3
      },
      "file_extension": ".py",
      "mimetype": "text/x-python",
      "name": "python",
      "nbconvert_exporter": "python",
      "pygments_lexer": "ipython3",
      "version": "3.7.4"
    },
    "colab": {
      "provenance": [],
      "toc_visible": true
    }
  },
  "nbformat": 4,
  "nbformat_minor": 0
}